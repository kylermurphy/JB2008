{
 "cells": [
  {
   "cell_type": "markdown",
   "id": "040940b8",
   "metadata": {},
   "source": [
    "# JB2008 Model Comparisons - jb08 (using Pyatmos) vs CCMC"
   ]
  },
  {
   "cell_type": "code",
   "execution_count": 1,
   "id": "eec244f5",
   "metadata": {},
   "outputs": [],
   "source": [
    "import sys, os\n",
    "import requests\n",
    "import pandas as pd\n",
    "import numpy as np\n",
    "import netCDF4 as nc\n",
    "\n",
    "jb_path = r'D:\\GitHub\\jb2008\\jb08'\n",
    "sys.path.append(os.path.dirname(jb_path))\n"
   ]
  },
  {
   "cell_type": "code",
   "execution_count": 2,
   "id": "f985cd5c",
   "metadata": {},
   "outputs": [
    {
     "name": "stdout",
     "output_type": "stream",
     "text": [
      "Running Setup:\n",
      "Checking for and downloading required files.\n",
      "...\n"
     ]
    }
   ],
   "source": [
    "import jb08"
   ]
  },
  {
   "cell_type": "code",
   "execution_count": 3,
   "id": "1746f28b",
   "metadata": {},
   "outputs": [],
   "source": [
    "http_f = r'D:\\JB08.2002002.nc'\n",
    "dat = nc.Dataset(http_f) \n",
    "#with requests.get(http_f,stream=True) as r:\n",
    "#  dat = nc.Dataset('in-mem-file', mode='r', memory=r.content) "
   ]
  },
  {
   "cell_type": "code",
   "execution_count": 4,
   "id": "8fcdc7fd",
   "metadata": {},
   "outputs": [
    {
     "data": {
      "text/plain": [
       "{'time': <class 'netCDF4._netCDF4.Variable'>\n",
       " float64 time(time)\n",
       "     long_name: Time\n",
       "     units: minutes\n",
       "     axis: T\n",
       " unlimited dimensions: time\n",
       " current shape = (96,)\n",
       " filling on, default _FillValue of 9.969209968386869e+36 used,\n",
       " 'ht': <class 'netCDF4._netCDF4.Variable'>\n",
       " float32 ht(ht)\n",
       "     long_name: Height\n",
       "     units: km\n",
       "     axis: Z\n",
       " unlimited dimensions: \n",
       " current shape = (46,)\n",
       " filling on, default _FillValue of 9.969209968386869e+36 used,\n",
       " 'lat': <class 'netCDF4._netCDF4.Variable'>\n",
       " float32 lat(lat)\n",
       "     long_name: Latitude\n",
       "     units: degrees_north\n",
       "     axis: Y\n",
       " unlimited dimensions: \n",
       " current shape = (37,)\n",
       " filling on, default _FillValue of 9.969209968386869e+36 used,\n",
       " 'lon': <class 'netCDF4._netCDF4.Variable'>\n",
       " float32 lon(lon)\n",
       "     long_name: Longitude\n",
       "     units: degrees_east\n",
       "     axis: X\n",
       " unlimited dimensions: \n",
       " current shape = (73,)\n",
       " filling on, default _FillValue of 9.969209968386869e+36 used,\n",
       " 'Temp_exo': <class 'netCDF4._netCDF4.Variable'>\n",
       " float32 Temp_exo(time, lat, lon)\n",
       "     long_name: Exospheric_Temperature\n",
       "     units: K\n",
       " unlimited dimensions: time\n",
       " current shape = (96, 37, 73)\n",
       " filling on, default _FillValue of 9.969209968386869e+36 used,\n",
       " 'Temp': <class 'netCDF4._netCDF4.Variable'>\n",
       " float32 Temp(time, ht, lat, lon)\n",
       "     long_name: Temperature\n",
       "     units: K\n",
       " unlimited dimensions: time\n",
       " current shape = (96, 46, 37, 73)\n",
       " filling on, default _FillValue of 9.969209968386869e+36 used,\n",
       " 'DEN': <class 'netCDF4._netCDF4.Variable'>\n",
       " float32 DEN(time, ht, lat, lon)\n",
       "     long_name: Total-Mass-Desnity\n",
       "     units: kg/m**3\n",
       " unlimited dimensions: time\n",
       " current shape = (96, 46, 37, 73)\n",
       " filling on, default _FillValue of 9.969209968386869e+36 used}"
      ]
     },
     "execution_count": 4,
     "metadata": {},
     "output_type": "execute_result"
    }
   ],
   "source": [
    "dat.variables"
   ]
  },
  {
   "cell_type": "code",
   "execution_count": 5,
   "id": "1715b1a2",
   "metadata": {},
   "outputs": [],
   "source": [
    "t = pd.to_datetime('2002-01-02')\n",
    "dt = [pd.to_datetime('2002-01-02')+pd.Timedelta(v, unit='minutes') for v in np.array(dat.variables['time'][:])]\n",
    "lat = np.array(dat.variables['lat'][::2])\n",
    "lon = np.array(dat.variables['lon'][::2])\n",
    "alt = np.array(dat.variables['ht'][::2])\n",
    "jb_dens = np.array(dat.variables['DEN'][:,::2,::2,::2])"
   ]
  },
  {
   "cell_type": "code",
   "execution_count": 6,
   "id": "cf4c4f9d",
   "metadata": {},
   "outputs": [
    {
     "data": {
      "application/vnd.jupyter.widget-view+json": {
       "model_id": "28c998fa9a6946a7a28e78f4c285b977",
       "version_major": 2,
       "version_minor": 0
      },
      "text/plain": [
       "Dask Apply:   0%|          | 0/65 [00:00<?, ?it/s]"
      ]
     },
     "metadata": {},
     "output_type": "display_data"
    }
   ],
   "source": [
    "jb_swft = jb08.jb2008(t=dt,lat=lat,lon=lon,alt=alt,dtype='float64')\n",
    "jb_swft.predict()"
   ]
  },
  {
   "cell_type": "code",
   "execution_count": 7,
   "id": "322d8b30",
   "metadata": {},
   "outputs": [
    {
     "data": {
      "text/plain": [
       "(1552224, 20)"
      ]
     },
     "execution_count": 7,
     "metadata": {},
     "output_type": "execute_result"
    }
   ],
   "source": [
    "jb_swft.dat.shape"
   ]
  },
  {
   "cell_type": "code",
   "execution_count": 9,
   "id": "c84677a9",
   "metadata": {},
   "outputs": [],
   "source": [
    "#(100*(jb_swft.dat['DEN']-jb_dens)/jb_swft.dat['DEN']).abs().describe()"
   ]
  },
  {
   "cell_type": "code",
   "execution_count": 10,
   "id": "56374208",
   "metadata": {},
   "outputs": [
    {
     "name": "stdout",
     "output_type": "stream",
     "text": [
      "(96, 23, 19, 37)\n",
      "(19, 96, 37, 23)\n"
     ]
    },
    {
     "data": {
      "text/plain": [
       "(19, 96, 37, 23)"
      ]
     },
     "execution_count": 10,
     "metadata": {},
     "output_type": "execute_result"
    }
   ],
   "source": [
    "jb_comp = np.swapaxes(jb_dens,0,1)\n",
    "jb_comp = np.swapaxes(jb_comp,0,2)\n",
    "jb_comp = np.swapaxes(jb_comp,2,3)\n",
    "print(jb_dens.shape)\n",
    "print(jb_comp.shape)\n",
    "\n",
    "x, _, _, _ = np.meshgrid(dt,lat,lon,alt)\n",
    "x.shape"
   ]
  },
  {
   "cell_type": "code",
   "execution_count": 11,
   "id": "c85044b5",
   "metadata": {},
   "outputs": [
    {
     "data": {
      "text/plain": [
       "count    1.552224e+06\n",
       "mean     1.248868e+00\n",
       "std      1.802540e+00\n",
       "min      0.000000e+00\n",
       "25%      2.886324e-01\n",
       "50%      7.252681e-01\n",
       "75%      9.007875e-01\n",
       "max      1.186699e+01\n",
       "Name: DEN, dtype: float64"
      ]
     },
     "execution_count": 11,
     "metadata": {},
     "output_type": "execute_result"
    }
   ],
   "source": [
    "(100*(jb_swft.dat['DEN']-jb_comp.flatten())/jb_swft.dat['DEN']).abs().describe()"
   ]
  },
  {
   "cell_type": "code",
   "execution_count": 12,
   "id": "f835de99",
   "metadata": {},
   "outputs": [
    {
     "data": {
      "text/plain": [
       "900467"
      ]
     },
     "execution_count": 12,
     "metadata": {},
     "output_type": "execute_result"
    }
   ],
   "source": [
    "(100*(jb_swft.dat['DEN']-jb_comp.flatten())/jb_swft.dat['DEN']).abs().argmax()"
   ]
  },
  {
   "cell_type": "code",
   "execution_count": 27,
   "id": "8f1b50ca",
   "metadata": {},
   "outputs": [
    {
     "name": "stdout",
     "output_type": "stream",
     "text": [
      "20.0\n",
      "40.0\n",
      "780.0\n",
      "2002-01-02 00:30:00\n",
      "3.3435423e-14\n"
     ]
    }
   ],
   "source": [
    "print(lat[11]) #11\n",
    "print(lon[4]) #4\n",
    "print(alt[-6])\n",
    "print(dt[2])\n",
    "print(jb_dens[2,-6,11,4])"
   ]
  },
  {
   "cell_type": "code",
   "execution_count": 23,
   "id": "e1acb8e7",
   "metadata": {},
   "outputs": [
    {
     "name": "stdout",
     "output_type": "stream",
     "text": [
      "20.0\n",
      "40.0\n",
      "2002-01-02T00:30:00.000000000\n",
      "780.0\n",
      "2.988855e-14\n"
     ]
    }
   ],
   "source": [
    "print(jb_swft.lat[900467])\n",
    "print(jb_swft.lon[900467])\n",
    "print(jb_swft.t[900467])\n",
    "print(jb_swft.alt[900467])\n",
    "print(jb_swft.dat['DEN'][900467])"
   ]
  },
  {
   "cell_type": "code",
   "execution_count": 35,
   "id": "e47ecd87",
   "metadata": {},
   "outputs": [],
   "source": [
    "jb_swft = jb08.jb2008(t=['2002-01-02 00:30:00','2001-01-02 00:00:00'],lat=20,lon=40,alt=780,dtype='float32')\n"
   ]
  },
  {
   "cell_type": "code",
   "execution_count": 36,
   "id": "f7ee8a61",
   "metadata": {},
   "outputs": [
    {
     "name": "stderr",
     "output_type": "stream",
     "text": [
      "100%|██████████| 2/2 [00:00<00:00, 2000.14it/s]\n"
     ]
    },
    {
     "data": {
      "text/html": [
       "<div>\n",
       "<style scoped>\n",
       "    .dataframe tbody tr th:only-of-type {\n",
       "        vertical-align: middle;\n",
       "    }\n",
       "\n",
       "    .dataframe tbody tr th {\n",
       "        vertical-align: top;\n",
       "    }\n",
       "\n",
       "    .dataframe thead th {\n",
       "        text-align: right;\n",
       "    }\n",
       "</style>\n",
       "<table border=\"1\" class=\"dataframe\">\n",
       "  <thead>\n",
       "    <tr style=\"text-align: right;\">\n",
       "      <th></th>\n",
       "      <th>F10</th>\n",
       "      <th>F10B</th>\n",
       "      <th>S10</th>\n",
       "      <th>S10B</th>\n",
       "      <th>M10</th>\n",
       "      <th>M10B</th>\n",
       "      <th>Y10</th>\n",
       "      <th>Y10B</th>\n",
       "      <th>DTCVAL</th>\n",
       "      <th>AMJD</th>\n",
       "      <th>YRDAY</th>\n",
       "      <th>SUN_RA</th>\n",
       "      <th>SUN_DEC</th>\n",
       "      <th>SAT_RA</th>\n",
       "      <th>SAT_LAT</th>\n",
       "      <th>SAT_LON</th>\n",
       "      <th>SAT_ALT</th>\n",
       "      <th>DEN</th>\n",
       "      <th>TEMP</th>\n",
       "      <th>EXO_TEMP</th>\n",
       "    </tr>\n",
       "  </thead>\n",
       "  <tbody>\n",
       "    <tr>\n",
       "      <th>0</th>\n",
       "      <td>232.199997</td>\n",
       "      <td>225.199997</td>\n",
       "      <td>225.000000</td>\n",
       "      <td>212.000000</td>\n",
       "      <td>232.000000</td>\n",
       "      <td>211.800003</td>\n",
       "      <td>202.600006</td>\n",
       "      <td>179.199997</td>\n",
       "      <td>31.0</td>\n",
       "      <td>52276.020833</td>\n",
       "      <td>1.020833</td>\n",
       "      <td>4.928728</td>\n",
       "      <td>-0.400547</td>\n",
       "      <td>2.600221</td>\n",
       "      <td>0.349066</td>\n",
       "      <td>0.698132</td>\n",
       "      <td>780.0</td>\n",
       "      <td>2.988855e-14</td>\n",
       "      <td>1190.254639</td>\n",
       "      <td>1191.416016</td>\n",
       "    </tr>\n",
       "    <tr>\n",
       "      <th>1</th>\n",
       "      <td>169.500000</td>\n",
       "      <td>172.300003</td>\n",
       "      <td>178.899994</td>\n",
       "      <td>183.300003</td>\n",
       "      <td>178.199997</td>\n",
       "      <td>175.500000</td>\n",
       "      <td>167.899994</td>\n",
       "      <td>164.600006</td>\n",
       "      <td>17.0</td>\n",
       "      <td>51911.000000</td>\n",
       "      <td>1.000000</td>\n",
       "      <td>4.933313</td>\n",
       "      <td>-0.400189</td>\n",
       "      <td>2.473145</td>\n",
       "      <td>0.349066</td>\n",
       "      <td>0.698132</td>\n",
       "      <td>780.0</td>\n",
       "      <td>1.270738e-14</td>\n",
       "      <td>958.169739</td>\n",
       "      <td>958.930420</td>\n",
       "    </tr>\n",
       "  </tbody>\n",
       "</table>\n",
       "</div>"
      ],
      "text/plain": [
       "          F10        F10B         S10        S10B         M10        M10B  \\\n",
       "0  232.199997  225.199997  225.000000  212.000000  232.000000  211.800003   \n",
       "1  169.500000  172.300003  178.899994  183.300003  178.199997  175.500000   \n",
       "\n",
       "          Y10        Y10B  DTCVAL          AMJD     YRDAY    SUN_RA   SUN_DEC  \\\n",
       "0  202.600006  179.199997    31.0  52276.020833  1.020833  4.928728 -0.400547   \n",
       "1  167.899994  164.600006    17.0  51911.000000  1.000000  4.933313 -0.400189   \n",
       "\n",
       "     SAT_RA   SAT_LAT   SAT_LON  SAT_ALT           DEN         TEMP  \\\n",
       "0  2.600221  0.349066  0.698132    780.0  2.988855e-14  1190.254639   \n",
       "1  2.473145  0.349066  0.698132    780.0  1.270738e-14   958.169739   \n",
       "\n",
       "      EXO_TEMP  \n",
       "0  1191.416016  \n",
       "1   958.930420  "
      ]
     },
     "execution_count": 36,
     "metadata": {},
     "output_type": "execute_result"
    }
   ],
   "source": [
    "jb_swft.predict()\n",
    "jb_swft.dat"
   ]
  },
  {
   "cell_type": "code",
   "execution_count": 16,
   "id": "2768d8bd",
   "metadata": {},
   "outputs": [
    {
     "name": "stdout",
     "output_type": "stream",
     "text": [
      "0    4.072406e-07\n",
      "1    3.367900e-09\n",
      "2    6.703345e-10\n",
      "3    2.284109e-10\n",
      "4    9.428235e-11\n",
      "5    4.402195e-11\n",
      "6    2.220295e-11\n",
      "7    1.184050e-11\n",
      "8    6.588433e-12\n",
      "9    3.790228e-12\n",
      "Name: DEN, dtype: float32\n",
      "[4.07267407e-07 3.36414230e-09 6.68375133e-10 2.26762886e-10\n",
      " 9.31784996e-11 4.33117188e-11 2.17531045e-11 1.15552125e-11\n",
      " 6.40601591e-12 3.67238011e-12]\n"
     ]
    }
   ],
   "source": [
    "print(jb_swft.dat[0:10]['DEN'])\n",
    "print(jb_comp.flatten()[0:10])"
   ]
  }
 ],
 "metadata": {
  "kernelspec": {
   "display_name": "satdrag",
   "language": "python",
   "name": "python3"
  },
  "language_info": {
   "codemirror_mode": {
    "name": "ipython",
    "version": 3
   },
   "file_extension": ".py",
   "mimetype": "text/x-python",
   "name": "python",
   "nbconvert_exporter": "python",
   "pygments_lexer": "ipython3",
   "version": "3.10.16"
  }
 },
 "nbformat": 4,
 "nbformat_minor": 5
}
