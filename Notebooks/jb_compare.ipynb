{
 "cells": [
  {
   "cell_type": "markdown",
   "id": "040940b8",
   "metadata": {},
   "source": [
    "# JB2008 Model Comparisons - jb08 (using Pyatmos) vs CCMC"
   ]
  },
  {
   "cell_type": "code",
   "execution_count": 1,
   "id": "eec244f5",
   "metadata": {},
   "outputs": [],
   "source": [
    "import sys, os\n",
    "import requests\n",
    "import pandas as pd\n",
    "import numpy as np\n",
    "import netCDF4 as nc\n",
    "\n",
    "jb_path = r'D:\\GitHub\\jb2008\\jb08'\n",
    "sys.path.append(os.path.dirname(jb_path))\n"
   ]
  },
  {
   "cell_type": "code",
   "execution_count": 2,
   "id": "f985cd5c",
   "metadata": {},
   "outputs": [
    {
     "name": "stdout",
     "output_type": "stream",
     "text": [
      "Running Setup:\n",
      "Checking for and downloading required files.\n",
      "...\n"
     ]
    }
   ],
   "source": [
    "import jb08"
   ]
  },
  {
   "cell_type": "code",
   "execution_count": 3,
   "id": "1746f28b",
   "metadata": {},
   "outputs": [],
   "source": [
    "http_f = r'D:\\JB08.2002002.nc'\n",
    "dat = nc.Dataset(http_f) \n",
    "#with requests.get(http_f,stream=True) as r:\n",
    "#  dat = nc.Dataset('in-mem-file', mode='r', memory=r.content) "
   ]
  },
  {
   "cell_type": "code",
   "execution_count": 4,
   "id": "8fcdc7fd",
   "metadata": {},
   "outputs": [
    {
     "data": {
      "text/plain": [
       "{'time': <class 'netCDF4._netCDF4.Variable'>\n",
       " float64 time(time)\n",
       "     long_name: Time\n",
       "     units: minutes\n",
       "     axis: T\n",
       " unlimited dimensions: time\n",
       " current shape = (96,)\n",
       " filling on, default _FillValue of 9.969209968386869e+36 used,\n",
       " 'ht': <class 'netCDF4._netCDF4.Variable'>\n",
       " float32 ht(ht)\n",
       "     long_name: Height\n",
       "     units: km\n",
       "     axis: Z\n",
       " unlimited dimensions: \n",
       " current shape = (46,)\n",
       " filling on, default _FillValue of 9.969209968386869e+36 used,\n",
       " 'lat': <class 'netCDF4._netCDF4.Variable'>\n",
       " float32 lat(lat)\n",
       "     long_name: Latitude\n",
       "     units: degrees_north\n",
       "     axis: Y\n",
       " unlimited dimensions: \n",
       " current shape = (37,)\n",
       " filling on, default _FillValue of 9.969209968386869e+36 used,\n",
       " 'lon': <class 'netCDF4._netCDF4.Variable'>\n",
       " float32 lon(lon)\n",
       "     long_name: Longitude\n",
       "     units: degrees_east\n",
       "     axis: X\n",
       " unlimited dimensions: \n",
       " current shape = (73,)\n",
       " filling on, default _FillValue of 9.969209968386869e+36 used,\n",
       " 'Temp_exo': <class 'netCDF4._netCDF4.Variable'>\n",
       " float32 Temp_exo(time, lat, lon)\n",
       "     long_name: Exospheric_Temperature\n",
       "     units: K\n",
       " unlimited dimensions: time\n",
       " current shape = (96, 37, 73)\n",
       " filling on, default _FillValue of 9.969209968386869e+36 used,\n",
       " 'Temp': <class 'netCDF4._netCDF4.Variable'>\n",
       " float32 Temp(time, ht, lat, lon)\n",
       "     long_name: Temperature\n",
       "     units: K\n",
       " unlimited dimensions: time\n",
       " current shape = (96, 46, 37, 73)\n",
       " filling on, default _FillValue of 9.969209968386869e+36 used,\n",
       " 'DEN': <class 'netCDF4._netCDF4.Variable'>\n",
       " float32 DEN(time, ht, lat, lon)\n",
       "     long_name: Total-Mass-Desnity\n",
       "     units: kg/m**3\n",
       " unlimited dimensions: time\n",
       " current shape = (96, 46, 37, 73)\n",
       " filling on, default _FillValue of 9.969209968386869e+36 used}"
      ]
     },
     "execution_count": 4,
     "metadata": {},
     "output_type": "execute_result"
    }
   ],
   "source": [
    "dat.variables"
   ]
  },
  {
   "cell_type": "code",
   "execution_count": 5,
   "id": "1715b1a2",
   "metadata": {},
   "outputs": [],
   "source": [
    "t = pd.to_datetime('2002-01-02')\n",
    "dt = [pd.to_datetime('2002-01-02')+pd.Timedelta(v, unit='minutes') for v in np.array(dat.variables['time'][:])]\n",
    "lat = np.array(dat.variables['lat'][::2])\n",
    "lon = np.array(dat.variables['lon'][::2])\n",
    "alt = np.array(dat.variables['ht'][::2])\n",
    "jb_dens = np.array(dat.variables['DEN'][:,::2,::2,::2])"
   ]
  },
  {
   "cell_type": "code",
   "execution_count": 6,
   "id": "cf4c4f9d",
   "metadata": {},
   "outputs": [
    {
     "data": {
      "application/vnd.jupyter.widget-view+json": {
       "model_id": "28c998fa9a6946a7a28e78f4c285b977",
       "version_major": 2,
       "version_minor": 0
      },
      "text/plain": [
       "Dask Apply:   0%|          | 0/65 [00:00<?, ?it/s]"
      ]
     },
     "metadata": {},
     "output_type": "display_data"
    }
   ],
   "source": [
    "jb_swft = jb08.jb2008(t=dt,lat=lat,lon=lon,alt=alt,dtype='float64')\n",
    "jb_swft.predict()"
   ]
  },
  {
   "cell_type": "code",
   "execution_count": 7,
   "id": "322d8b30",
   "metadata": {},
   "outputs": [
    {
     "data": {
      "text/plain": [
       "(1552224, 20)"
      ]
     },
     "execution_count": 7,
     "metadata": {},
     "output_type": "execute_result"
    }
   ],
   "source": [
    "jb_swft.dat.shape"
   ]
  },
  {
   "cell_type": "code",
   "execution_count": 8,
   "id": "5c8ad97c",
   "metadata": {},
   "outputs": [
    {
     "name": "stdout",
     "output_type": "stream",
     "text": [
      "[[[4.0726741e-07 4.0726741e-07 4.0726741e-07 ... 4.0726741e-07\n",
      "   4.0726741e-07 4.0726741e-07]\n",
      "  [4.1094552e-07 4.1095123e-07 4.1095464e-07 ... 4.1092625e-07\n",
      "   4.1093722e-07 4.1094552e-07]\n",
      "  [4.2151692e-07 4.2152891e-07 4.2153610e-07 ... 4.2147659e-07\n",
      "   4.2149952e-07 4.2151692e-07]\n",
      "  ...\n",
      "  [7.0348881e-07 7.0350859e-07 7.0352041e-07 ... 7.0342219e-07\n",
      "   7.0346010e-07 7.0348881e-07]\n",
      "  [7.2123720e-07 7.2124720e-07 7.2125317e-07 ... 7.2120338e-07\n",
      "   7.2122265e-07 7.2123720e-07]\n",
      "  [7.2738050e-07 7.2738050e-07 7.2738050e-07 ... 7.2738050e-07\n",
      "   7.2738050e-07 7.2738050e-07]]\n",
      "\n",
      " [[3.3641423e-09 3.3641974e-09 3.3642398e-09 ... 3.3643364e-09\n",
      "   3.3642713e-09 3.3641423e-09]\n",
      "  [3.3735561e-09 3.3726968e-09 3.3723031e-09 ... 3.3759953e-09\n",
      "   3.3746048e-09 3.3735561e-09]\n",
      "  [3.4282090e-09 3.4263452e-09 3.4254717e-09 ... 3.4330898e-09\n",
      "   3.4302616e-09 3.4282090e-09]\n",
      "  ...\n",
      "  [5.1128413e-09 5.1099200e-09 5.1086237e-09 ... 5.1200808e-09\n",
      "   5.1158642e-09 5.1128413e-09]\n",
      "  [5.2379852e-09 5.2365743e-09 5.2359681e-09 ... 5.2418345e-09\n",
      "   5.2396394e-09 5.2379852e-09]\n",
      "  [5.2976383e-09 5.2977502e-09 5.2978364e-09 ... 5.2980318e-09\n",
      "   5.2978999e-09 5.2976383e-09]]\n",
      "\n",
      " [[6.6837513e-10 6.6843714e-10 6.6848477e-10 ... 6.6859301e-10\n",
      "   6.6852013e-10 6.6837513e-10]\n",
      "  [6.6483369e-10 6.6437988e-10 6.6431577e-10 ... 6.6523675e-10\n",
      "   6.6497213e-10 6.6483369e-10]\n",
      "  [6.6359351e-10 6.6257794e-10 6.6239264e-10 ... 6.6418943e-10\n",
      "   6.6372130e-10 6.6359351e-10]\n",
      "  ...\n",
      "  [7.1923889e-10 7.1791734e-10 7.1774481e-10 ... 7.1955780e-10\n",
      "   7.1918749e-10 7.1923889e-10]\n",
      "  [7.2791184e-10 7.2730721e-10 7.2726003e-10 ... 7.2824052e-10\n",
      "   7.2800016e-10 7.2791184e-10]\n",
      "  [7.3476364e-10 7.3485945e-10 7.3493295e-10 ... 7.3510004e-10\n",
      "   7.3498752e-10 7.3476364e-10]]\n",
      "\n",
      " ...\n",
      "\n",
      " [[2.9203179e-14 2.9203179e-14 2.9203179e-14 ... 2.9203179e-14\n",
      "   2.9203179e-14 2.9203179e-14]\n",
      "  [2.5362957e-14 2.5179506e-14 2.5070788e-14 ... 2.5993435e-14\n",
      "   2.5632142e-14 2.5362957e-14]\n",
      "  [2.1918756e-14 2.1601465e-14 2.1414389e-14 ... 2.3024515e-14\n",
      "   2.2387980e-14 2.1918756e-14]\n",
      "  ...\n",
      "  [1.1726291e-14 1.1578389e-14 1.1491175e-14 ... 1.2241593e-14\n",
      "   1.1944980e-14 1.1726291e-14]\n",
      "  [1.2856128e-14 1.2773972e-14 1.2725285e-14 ... 1.3138509e-14\n",
      "   1.2976686e-14 1.2856128e-14]\n",
      "  [1.4397160e-14 1.4397160e-14 1.4397160e-14 ... 1.4397160e-14\n",
      "   1.4397160e-14 1.4397160e-14]]\n",
      "\n",
      " [[2.0813912e-14 2.0813912e-14 2.0813912e-14 ... 2.0813912e-14\n",
      "   2.0813912e-14 2.0813912e-14]\n",
      "  [1.8086125e-14 1.7956224e-14 1.7879260e-14 ... 1.8532856e-14\n",
      "   1.8276804e-14 1.8086125e-14]\n",
      "  [1.5653819e-14 1.5430458e-14 1.5298821e-14 ... 1.6433185e-14\n",
      "   1.5984360e-14 1.5653819e-14]\n",
      "  ...\n",
      "  [8.5419470e-15 8.4396626e-15 8.3793581e-15 ... 8.8984767e-15\n",
      "   8.6932220e-15 8.5419470e-15]\n",
      "  [9.3240260e-15 9.2671113e-15 9.2333867e-15 ... 9.5197076e-15\n",
      "   9.4075579e-15 9.3240260e-15]\n",
      "  [1.0393051e-14 1.0393051e-14 1.0393051e-14 ... 1.0393051e-14\n",
      "   1.0393051e-14 1.0393051e-14]]\n",
      "\n",
      " [[1.5183010e-14 1.5183010e-14 1.5183010e-14 ... 1.5183010e-14\n",
      "   1.5183010e-14 1.5183010e-14]\n",
      "  [1.3225546e-14 1.3132564e-14 1.3077484e-14 ... 1.3545475e-14\n",
      "   1.3362071e-14 1.3225546e-14]\n",
      "  [1.1488155e-14 1.1328993e-14 1.1235221e-14 ... 1.2044019e-14\n",
      "   1.1723809e-14 1.1488155e-14]\n",
      "  ...\n",
      "  [6.4479684e-15 6.3757305e-15 6.3331387e-15 ... 6.6997507e-15\n",
      "   6.5548013e-15 6.4479684e-15]\n",
      "  [7.0002763e-15 6.9600807e-15 6.9362639e-15 ... 7.1384811e-15\n",
      "   7.0592713e-15 7.0002763e-15]\n",
      "  [7.7555158e-15 7.7555158e-15 7.7555158e-15 ... 7.7555158e-15\n",
      "   7.7555158e-15 7.7555158e-15]]]\n",
      "4.0724058e-07\n"
     ]
    }
   ],
   "source": [
    "print(jb_dens[0])\n",
    "print(jb_swft.dat['DEN'][0])\n"
   ]
  },
  {
   "cell_type": "code",
   "execution_count": 9,
   "id": "c84677a9",
   "metadata": {},
   "outputs": [],
   "source": [
    "#(100*(jb_swft.dat['DEN']-jb_dens)/jb_swft.dat['DEN']).abs().describe()"
   ]
  },
  {
   "cell_type": "code",
   "execution_count": 10,
   "id": "56374208",
   "metadata": {},
   "outputs": [
    {
     "name": "stdout",
     "output_type": "stream",
     "text": [
      "(96, 23, 19, 37)\n",
      "(19, 96, 37, 23)\n"
     ]
    },
    {
     "data": {
      "text/plain": [
       "(19, 96, 37, 23)"
      ]
     },
     "execution_count": 10,
     "metadata": {},
     "output_type": "execute_result"
    }
   ],
   "source": [
    "jb_comp = np.swapaxes(jb_dens,0,1)\n",
    "jb_comp = np.swapaxes(jb_comp,0,2)\n",
    "jb_comp = np.swapaxes(jb_comp,2,3)\n",
    "print(jb_dens.shape)\n",
    "print(jb_comp.shape)\n",
    "\n",
    "x, _, _, _ = np.meshgrid(dt,lat,lon,alt)\n",
    "x.shape"
   ]
  },
  {
   "cell_type": "code",
   "execution_count": 11,
   "id": "c85044b5",
   "metadata": {},
   "outputs": [
    {
     "data": {
      "text/plain": [
       "count    1.552224e+06\n",
       "mean     1.248868e+00\n",
       "std      1.802540e+00\n",
       "min      0.000000e+00\n",
       "25%      2.886324e-01\n",
       "50%      7.252681e-01\n",
       "75%      9.007875e-01\n",
       "max      1.186699e+01\n",
       "Name: DEN, dtype: float64"
      ]
     },
     "execution_count": 11,
     "metadata": {},
     "output_type": "execute_result"
    }
   ],
   "source": [
    "(100*(jb_swft.dat['DEN']-jb_comp.flatten())/jb_swft.dat['DEN']).abs().describe()"
   ]
  },
  {
   "cell_type": "code",
   "execution_count": 12,
   "id": "f835de99",
   "metadata": {},
   "outputs": [
    {
     "data": {
      "text/plain": [
       "900467"
      ]
     },
     "execution_count": 12,
     "metadata": {},
     "output_type": "execute_result"
    }
   ],
   "source": [
    "(100*(jb_swft.dat['DEN']-jb_comp.flatten())/jb_swft.dat['DEN']).abs().argmax()"
   ]
  },
  {
   "cell_type": "code",
   "execution_count": 22,
   "id": "8f1b50ca",
   "metadata": {},
   "outputs": [
    {
     "name": "stdout",
     "output_type": "stream",
     "text": [
      "20.0\n",
      "40.0\n",
      "780.0\n",
      "2002-01-02 00:30:00\n"
     ]
    }
   ],
   "source": [
    "print(lat[11]) #11\n",
    "print(lon[4]) #4\n",
    "print(alt[-6])\n",
    "print(dt[2])"
   ]
  },
  {
   "cell_type": "code",
   "execution_count": 23,
   "id": "e1acb8e7",
   "metadata": {},
   "outputs": [
    {
     "name": "stdout",
     "output_type": "stream",
     "text": [
      "20.0\n",
      "40.0\n",
      "2002-01-02T00:30:00.000000000\n",
      "780.0\n",
      "2.988855e-14\n"
     ]
    }
   ],
   "source": [
    "print(jb_swft.lat[900467])\n",
    "print(jb_swft.lon[900467])\n",
    "print(jb_swft.t[900467])\n",
    "print(jb_swft.alt[900467])\n",
    "print(jb_swft.dat['DEN'][900467])"
   ]
  },
  {
   "cell_type": "code",
   "execution_count": null,
   "id": "e47ecd87",
   "metadata": {},
   "outputs": [
    {
     "data": {
      "text/plain": [
       "array([-90., -90., -90., ...,  90.,  90.,  90.])"
      ]
     },
     "execution_count": 15,
     "metadata": {},
     "output_type": "execute_result"
    }
   ],
   "source": [
    "jb_den"
   ]
  },
  {
   "cell_type": "code",
   "execution_count": 16,
   "id": "2768d8bd",
   "metadata": {},
   "outputs": [
    {
     "name": "stdout",
     "output_type": "stream",
     "text": [
      "0    4.072406e-07\n",
      "1    3.367900e-09\n",
      "2    6.703345e-10\n",
      "3    2.284109e-10\n",
      "4    9.428235e-11\n",
      "5    4.402195e-11\n",
      "6    2.220295e-11\n",
      "7    1.184050e-11\n",
      "8    6.588433e-12\n",
      "9    3.790228e-12\n",
      "Name: DEN, dtype: float32\n",
      "[4.07267407e-07 3.36414230e-09 6.68375133e-10 2.26762886e-10\n",
      " 9.31784996e-11 4.33117188e-11 2.17531045e-11 1.15552125e-11\n",
      " 6.40601591e-12 3.67238011e-12]\n"
     ]
    }
   ],
   "source": [
    "print(jb_swft.dat[0:10]['DEN'])\n",
    "print(jb_comp.flatten()[0:10])"
   ]
  }
 ],
 "metadata": {
  "kernelspec": {
   "display_name": "satdrag",
   "language": "python",
   "name": "python3"
  },
  "language_info": {
   "codemirror_mode": {
    "name": "ipython",
    "version": 3
   },
   "file_extension": ".py",
   "mimetype": "text/x-python",
   "name": "python",
   "nbconvert_exporter": "python",
   "pygments_lexer": "ipython3",
   "version": "3.10.16"
  }
 },
 "nbformat": 4,
 "nbformat_minor": 5
}
